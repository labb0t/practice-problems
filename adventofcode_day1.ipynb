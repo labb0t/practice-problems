{
 "cells": [
  {
   "cell_type": "code",
   "execution_count": 1,
   "metadata": {
    "ExecuteTime": {
     "end_time": "2020-12-21T21:16:27.673028Z",
     "start_time": "2020-12-21T21:16:23.831983Z"
    }
   },
   "outputs": [],
   "source": [
    "import pandas as pd\n",
    "import numpy as np"
   ]
  },
  {
   "cell_type": "markdown",
   "metadata": {},
   "source": [
    "## Part 1"
   ]
  },
  {
   "cell_type": "code",
   "execution_count": 47,
   "metadata": {
    "ExecuteTime": {
     "end_time": "2020-12-22T01:07:04.824178Z",
     "start_time": "2020-12-22T01:07:04.819765Z"
    }
   },
   "outputs": [],
   "source": [
    "raw = \"\"\"\n",
    "2008\n",
    "1529\n",
    "1594\n",
    "1422\n",
    "1518\n",
    "1278\n",
    "1553\n",
    "1563\n",
    "1911\n",
    "1799\n",
    "1554\n",
    "1247\n",
    "1256\n",
    "1558\n",
    "483\n",
    "1228\n",
    "1931\n",
    "1915\n",
    "1982\n",
    "1823\n",
    "2003\n",
    "1894\n",
    "1388\n",
    "1925\n",
    "1501\n",
    "1236\n",
    "1897\n",
    "1245\n",
    "1386\n",
    "1967\n",
    "1806\n",
    "1861\n",
    "1837\n",
    "1895\n",
    "207\n",
    "2002\n",
    "1688\n",
    "1214\n",
    "1464\n",
    "1905\n",
    "1936\n",
    "1926\n",
    "899\n",
    "245\n",
    "1589\n",
    "1449\n",
    "1190\n",
    "1332\n",
    "1444\n",
    "2000\n",
    "1210\n",
    "1979\n",
    "1472\n",
    "1477\n",
    "1904\n",
    "1354\n",
    "1930\n",
    "1318\n",
    "1981\n",
    "1929\n",
    "1763\n",
    "1840\n",
    "1536\n",
    "1862\n",
    "1262\n",
    "1202\n",
    "1993\n",
    "1963\n",
    "1872\n",
    "1907\n",
    "1287\n",
    "1231\n",
    "1387\n",
    "1555\n",
    "1782\n",
    "1301\n",
    "1468\n",
    "1476\n",
    "1908\n",
    "1436\n",
    "1941\n",
    "1252\n",
    "1824\n",
    "1910\n",
    "1817\n",
    "1818\n",
    "131\n",
    "1201\n",
    "1869\n",
    "1357\n",
    "1983\n",
    "1543\n",
    "1836\n",
    "1860\n",
    "1648\n",
    "1916\n",
    "1825\n",
    "1875\n",
    "1233\n",
    "1289\n",
    "1071\n",
    "1355\n",
    "1761\n",
    "1846\n",
    "1392\n",
    "1966\n",
    "1204\n",
    "1906\n",
    "1830\n",
    "1309\n",
    "1427\n",
    "1347\n",
    "1315\n",
    "1602\n",
    "1323\n",
    "1461\n",
    "313\n",
    "1841\n",
    "1857\n",
    "1741\n",
    "1663\n",
    "1947\n",
    "1600\n",
    "1954\n",
    "1974\n",
    "1922\n",
    "1884\n",
    "1844\n",
    "1463\n",
    "1777\n",
    "1720\n",
    "1888\n",
    "1874\n",
    "1435\n",
    "1816\n",
    "1268\n",
    "1901\n",
    "1945\n",
    "1548\n",
    "1794\n",
    "1886\n",
    "1580\n",
    "1746\n",
    "1958\n",
    "1495\n",
    "1821\n",
    "1538\n",
    "1937\n",
    "584\n",
    "1637\n",
    "1185\n",
    "1540\n",
    "1959\n",
    "1595\n",
    "1523\n",
    "1919\n",
    "1644\n",
    "1478\n",
    "1822\n",
    "1502\n",
    "1466\n",
    "1617\n",
    "1258\n",
    "267\n",
    "1855\n",
    "1887\n",
    "1471\n",
    "1632\n",
    "1726\n",
    "1415\n",
    "1424\n",
    "841\n",
    "1410\n",
    "1393\n",
    "1293\n",
    "1927\n",
    "1934\n",
    "1923\n",
    "1848\n",
    "1847\n",
    "1968\n",
    "1371\n",
    "1497\n",
    "1751\n",
    "1851\n",
    "1882\n",
    "1250\n",
    "1953\n",
    "2004\n",
    "1420\n",
    "1662\n",
    "1519\n",
    "1679\n",
    "1369\n",
    "1964\n",
    "1642\n",
    "1809\n",
    "1609\n",
    "1517\n",
    "1175\n",
    "\"\"\""
   ]
  },
  {
   "cell_type": "code",
   "execution_count": 48,
   "metadata": {
    "ExecuteTime": {
     "end_time": "2020-12-22T01:07:05.295138Z",
     "start_time": "2020-12-22T01:07:05.292238Z"
    }
   },
   "outputs": [],
   "source": [
    "raw = raw.split()"
   ]
  },
  {
   "cell_type": "code",
   "execution_count": 18,
   "metadata": {
    "ExecuteTime": {
     "end_time": "2020-12-21T21:23:21.922974Z",
     "start_time": "2020-12-21T21:23:21.919749Z"
    }
   },
   "outputs": [],
   "source": [
    "raw = [int(i) for i in raw]"
   ]
  },
  {
   "cell_type": "code",
   "execution_count": 26,
   "metadata": {
    "ExecuteTime": {
     "end_time": "2020-12-21T21:31:47.682633Z",
     "start_time": "2020-12-21T21:31:47.678263Z"
    }
   },
   "outputs": [
    {
     "name": "stdout",
     "output_type": "stream",
     "text": [
      "584\n",
      "1436\n",
      "838624\n"
     ]
    }
   ],
   "source": [
    "# sort asc, then start on either end\n",
    "raw = sorted(raw)\n",
    "smaller, larger = 0, len(raw)-1\n",
    "total = 0\n",
    "\n",
    "while smaller < larger:\n",
    "    total = raw[smaller] + raw[larger]\n",
    "    if total > 2020:\n",
    "        larger -= 1\n",
    "    if total < 2020:\n",
    "        smaller += 1  \n",
    "    if total == 2020:\n",
    "        product = raw[smaller] * raw[larger]\n",
    "        print(raw[smaller])        \n",
    "        print(raw[larger])\n",
    "        print(product)\n",
    "        break"
   ]
  },
  {
   "cell_type": "markdown",
   "metadata": {},
   "source": [
    "## Part 2"
   ]
  },
  {
   "cell_type": "code",
   "execution_count": 27,
   "metadata": {
    "ExecuteTime": {
     "end_time": "2020-12-21T21:59:42.333503Z",
     "start_time": "2020-12-21T21:59:42.328209Z"
    }
   },
   "outputs": [],
   "source": [
    "# dict with keys = sum, values = two numbers\n",
    "# iterate through the keys, add keys to orig values\n",
    "\n",
    "sum_dict = {}\n",
    "smaller = 0\n",
    "larger = 1\n",
    "threshold = len(raw)-1\n",
    "\n",
    "\n",
    "while smaller < threshold:\n",
    "    total = raw[smaller] + raw[larger]\n",
    "    if total <= 2020:\n",
    "        sum_dict[total] = [raw[smaller], raw[larger]]\n",
    "        larger += 1\n",
    "    if total > 2020:\n",
    "        smaller += 1\n",
    "        threshold = larger\n",
    "        larger = smaller + 1        "
   ]
  },
  {
   "cell_type": "code",
   "execution_count": 34,
   "metadata": {
    "ExecuteTime": {
     "end_time": "2020-12-21T22:08:50.243193Z",
     "start_time": "2020-12-21T22:08:50.237691Z"
    }
   },
   "outputs": [
    {
     "name": "stdout",
     "output_type": "stream",
     "text": [
      "1644\n",
      "131\n",
      "245\n",
      "52764180\n"
     ]
    }
   ],
   "source": [
    "for key,value in sum_dict.items():\n",
    "    is_complete = 0\n",
    "    for r in raw:\n",
    "        final_sum = key + r\n",
    "        if final_sum == 2020:\n",
    "            is_complete = 1\n",
    "            product = r * value[0] * value[1]\n",
    "            print(r)\n",
    "            print(value[0])\n",
    "            print(value[1])\n",
    "            print(product)\n",
    "    if is_complete == 1:\n",
    "        break"
   ]
  }
 ],
 "metadata": {
  "kernelspec": {
   "display_name": "Python 3",
   "language": "python",
   "name": "python3"
  },
  "language_info": {
   "codemirror_mode": {
    "name": "ipython",
    "version": 3
   },
   "file_extension": ".py",
   "mimetype": "text/x-python",
   "name": "python",
   "nbconvert_exporter": "python",
   "pygments_lexer": "ipython3",
   "version": "3.8.3"
  },
  "toc": {
   "base_numbering": 1,
   "nav_menu": {},
   "number_sections": true,
   "sideBar": true,
   "skip_h1_title": false,
   "title_cell": "Table of Contents",
   "title_sidebar": "Contents",
   "toc_cell": false,
   "toc_position": {},
   "toc_section_display": true,
   "toc_window_display": false
  }
 },
 "nbformat": 4,
 "nbformat_minor": 4
}
