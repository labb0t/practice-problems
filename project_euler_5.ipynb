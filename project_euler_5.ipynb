{
 "cells": [
  {
   "cell_type": "markdown",
   "metadata": {},
   "source": [
    "# [Project Euler Problem 5](https://projecteuler.net/problem=5)\n",
    "2520 is the smallest number that can be divided by each of the numbers from 1 to 10 without any remainder.\n",
    "\n",
    "What is the smallest positive number that is evenly divisible by all of the numbers from 1 to 20?"
   ]
  },
  {
   "cell_type": "code",
   "execution_count": 1,
   "metadata": {
    "ExecuteTime": {
     "end_time": "2020-12-30T22:54:09.822043Z",
     "start_time": "2020-12-30T22:54:09.818345Z"
    }
   },
   "outputs": [],
   "source": [
    "from collections import defaultdict"
   ]
  },
  {
   "cell_type": "code",
   "execution_count": 2,
   "metadata": {
    "ExecuteTime": {
     "end_time": "2020-12-30T22:54:10.451038Z",
     "start_time": "2020-12-30T22:54:10.444884Z"
    }
   },
   "outputs": [],
   "source": [
    "def get_prime_factors(n):\n",
    "    '''\n",
    "    returns a dictionary containing the prime factors of n\n",
    "    '''\n",
    "    prime_factors = defaultdict(int)\n",
    "    if n > 1:\n",
    "        d = 2\n",
    "        while d*d <=  n:\n",
    "            if n % d ==0:\n",
    "                prime_factors[d] += 1\n",
    "                n /= d\n",
    "                d = 2\n",
    "            else:\n",
    "                d += 1\n",
    "        prime_factors[n] += 1\n",
    "    return prime_factors"
   ]
  },
  {
   "cell_type": "code",
   "execution_count": 3,
   "metadata": {
    "ExecuteTime": {
     "end_time": "2020-12-30T22:54:11.048411Z",
     "start_time": "2020-12-30T22:54:11.041198Z"
    }
   },
   "outputs": [],
   "source": [
    "def get_smallest_divisible(min_divisor=1, max_divisor=20):\n",
    "    '''\n",
    "    returns the smallest positive number that is evenly divisible by all numbers in range min_divisor to max_divisor\n",
    "    '''\n",
    "    # this dict will hold the max number of each prime factor needed\n",
    "    main_prime_dict = defaultdict(int)\n",
    "    \n",
    "    # iterate through range and calculate the max number of each prime needed, add to dict\n",
    "    for i in range(min_divisor, max_divisor):\n",
    "        prime_dict = get_prime_factors(i)\n",
    "        for p in prime_dict.keys():\n",
    "            \n",
    "            # if we see a new max in the count of a given prime, update its value in the main dict\n",
    "            if main_prime_dict[p] < prime_dict[p]:\n",
    "                main_prime_dict[p] = prime_dict[p]\n",
    "    \n",
    "    # multiply the prime factors to get the smallest divisible number\n",
    "    smallest_divisible = 1\n",
    "    for key, value in main_prime_dict.items():\n",
    "        smallest_divisible = smallest_divisible * key ** value\n",
    "    \n",
    "    return smallest_divisible    "
   ]
  },
  {
   "cell_type": "code",
   "execution_count": 4,
   "metadata": {
    "ExecuteTime": {
     "end_time": "2020-12-30T22:54:11.944600Z",
     "start_time": "2020-12-30T22:54:11.932823Z"
    }
   },
   "outputs": [
    {
     "data": {
      "text/plain": [
       "232792560"
      ]
     },
     "execution_count": 4,
     "metadata": {},
     "output_type": "execute_result"
    }
   ],
   "source": [
    "get_smallest_divisible(1,20)"
   ]
  }
 ],
 "metadata": {
  "kernelspec": {
   "display_name": "Python 3",
   "language": "python",
   "name": "python3"
  },
  "language_info": {
   "codemirror_mode": {
    "name": "ipython",
    "version": 3
   },
   "file_extension": ".py",
   "mimetype": "text/x-python",
   "name": "python",
   "nbconvert_exporter": "python",
   "pygments_lexer": "ipython3",
   "version": "3.8.3"
  },
  "toc": {
   "base_numbering": 1,
   "nav_menu": {},
   "number_sections": true,
   "sideBar": true,
   "skip_h1_title": false,
   "title_cell": "Table of Contents",
   "title_sidebar": "Contents",
   "toc_cell": false,
   "toc_position": {},
   "toc_section_display": true,
   "toc_window_display": false
  }
 },
 "nbformat": 4,
 "nbformat_minor": 4
}
