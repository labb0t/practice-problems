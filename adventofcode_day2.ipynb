{
 "cells": [
  {
   "cell_type": "markdown",
   "metadata": {},
   "source": [
    "## [Advent of Code Day 2](https://adventofcode.com/2020/day/2)\n",
    "\n",
    "### Part 1\n",
    "How many passwords are valid according to their policies?"
   ]
  },
  {
   "cell_type": "code",
   "execution_count": 107,
   "metadata": {
    "ExecuteTime": {
     "end_time": "2021-01-03T23:19:47.048912Z",
     "start_time": "2021-01-03T23:19:47.045565Z"
    }
   },
   "outputs": [],
   "source": [
    "import pandas as pd"
   ]
  },
  {
   "cell_type": "code",
   "execution_count": 122,
   "metadata": {
    "ExecuteTime": {
     "end_time": "2021-01-03T23:29:16.918225Z",
     "start_time": "2021-01-03T23:29:16.910477Z"
    }
   },
   "outputs": [],
   "source": [
    "df = pd.read_csv('input_aocday2part1.txt',header=None,names=['input'])\n",
    "input_list = df['input']"
   ]
  },
  {
   "cell_type": "code",
   "execution_count": 109,
   "metadata": {
    "ExecuteTime": {
     "end_time": "2021-01-03T23:19:48.300864Z",
     "start_time": "2021-01-03T23:19:48.293861Z"
    }
   },
   "outputs": [],
   "source": [
    "def evaluate_passwords(input_list):\n",
    "    '''\n",
    "    given a list of password requirements and passwords, returns the count of valid passwords\n",
    "    '''\n",
    "    valid_password_count = 0\n",
    "    for input_row in input_list:\n",
    "        letter = input_row[input_row.index(':')-1]\n",
    "        password = input_row[input_row.index(':')+1 : len(input_row)].strip()\n",
    "        letter_min = int(input_row[0 : input_row.index('-')]*1)\n",
    "        letter_max = int(input_row[input_row.index('-')+1 : input_row.index(letter)].strip())\n",
    "        letter_count = password.count(letter)\n",
    "        if letter_count >= letter_min and letter_count <= letter_max:\n",
    "            valid_password_count += 1\n",
    "    return valid_password_count"
   ]
  },
  {
   "cell_type": "code",
   "execution_count": 110,
   "metadata": {
    "ExecuteTime": {
     "end_time": "2021-01-03T23:19:48.792537Z",
     "start_time": "2021-01-03T23:19:48.784774Z"
    }
   },
   "outputs": [
    {
     "data": {
      "text/plain": [
       "477"
      ]
     },
     "execution_count": 110,
     "metadata": {},
     "output_type": "execute_result"
    }
   ],
   "source": [
    "evaluate_passwords(input_list)"
   ]
  },
  {
   "cell_type": "markdown",
   "metadata": {},
   "source": [
    "### Part 2\n",
    "How many passwords are valid according to the new interpretation of the policies?"
   ]
  },
  {
   "cell_type": "code",
   "execution_count": 126,
   "metadata": {
    "ExecuteTime": {
     "end_time": "2021-01-03T23:29:45.906096Z",
     "start_time": "2021-01-03T23:29:45.898791Z"
    }
   },
   "outputs": [],
   "source": [
    "def evaluate_passwords2(input_list):\n",
    "    '''\n",
    "    given a list of password requirements and passwords, returns the count of valid passwords according to the new policy\n",
    "    '''\n",
    "    valid_password_count = 0\n",
    "    for input_row in input_list:\n",
    "        letter = input_row[input_row.index(':')-1]\n",
    "        password = input_row[input_row.index(':')+1 : len(input_row)].strip()\n",
    "        first_index = int(input_row[0 : input_row.index('-')]*1)\n",
    "        second_index = int(input_row[input_row.index('-')+1 : input_row.index(letter)].strip())   \n",
    "        str_to_check = password[first_index-1] + password[second_index-1]\n",
    "        if str_to_check.count(letter) == 1:\n",
    "            valid_password_count += 1\n",
    "    return valid_password_count"
   ]
  },
  {
   "cell_type": "code",
   "execution_count": 127,
   "metadata": {
    "ExecuteTime": {
     "end_time": "2021-01-03T23:29:46.359764Z",
     "start_time": "2021-01-03T23:29:46.351155Z"
    }
   },
   "outputs": [
    {
     "data": {
      "text/plain": [
       "686"
      ]
     },
     "execution_count": 127,
     "metadata": {},
     "output_type": "execute_result"
    }
   ],
   "source": [
    "evaluate_passwords2(input_list)"
   ]
  }
 ],
 "metadata": {
  "kernelspec": {
   "display_name": "Python 3",
   "language": "python",
   "name": "python3"
  },
  "language_info": {
   "codemirror_mode": {
    "name": "ipython",
    "version": 3
   },
   "file_extension": ".py",
   "mimetype": "text/x-python",
   "name": "python",
   "nbconvert_exporter": "python",
   "pygments_lexer": "ipython3",
   "version": "3.8.3"
  },
  "toc": {
   "base_numbering": 1,
   "nav_menu": {},
   "number_sections": true,
   "sideBar": true,
   "skip_h1_title": false,
   "title_cell": "Table of Contents",
   "title_sidebar": "Contents",
   "toc_cell": false,
   "toc_position": {},
   "toc_section_display": true,
   "toc_window_display": false
  }
 },
 "nbformat": 4,
 "nbformat_minor": 4
}
